{
 "cells": [
  {
   "cell_type": "code",
   "execution_count": 1,
   "metadata": {},
   "outputs": [],
   "source": [
    "import tensorflow as tf"
   ]
  },
  {
   "cell_type": "code",
   "execution_count": 15,
   "metadata": {
    "collapsed": true
   },
   "outputs": [],
   "source": [
    "#source_folder = \"D:\\\\Study\\\\OneDrive - The University of Texas at Dallas\\\\02 Study\\\\22 Tensorflow\\\\\"\n",
    "source_folder = \"D:\\\\Study\\\\graphs\\\\\""
   ]
  },
  {
   "cell_type": "code",
   "execution_count": 3,
   "metadata": {},
   "outputs": [
    {
     "name": "stdout",
     "output_type": "stream",
     "text": [
      "b'Hello, TensorFlow!'\n"
     ]
    }
   ],
   "source": [
    "hello = tf.constant('Hello, TensorFlow!')\n",
    "sess = tf.Session()\n",
    "print(sess.run(hello))"
   ]
  },
  {
   "cell_type": "code",
   "execution_count": 4,
   "metadata": {},
   "outputs": [
    {
     "data": {
      "text/plain": [
       "8"
      ]
     },
     "execution_count": 4,
     "metadata": {},
     "output_type": "execute_result"
    }
   ],
   "source": [
    "a = tf.add(3,5)\n",
    "sess = tf.Session()\n",
    "sess.run(a)"
   ]
  },
  {
   "cell_type": "code",
   "execution_count": 16,
   "metadata": {},
   "outputs": [
    {
     "name": "stdout",
     "output_type": "stream",
     "text": [
      "5\n"
     ]
    }
   ],
   "source": [
    "a = tf.constant(2)\n",
    "b = tf.constant(3)\n",
    "x = tf.add(a,b)\n",
    "with tf.Session() as sess:\n",
    "    writer = tf.summary.FileWriter(source_folder,sess.graph)\n",
    "    print(sess.run(x))\n",
    "    \n",
    "writer.close()\n",
    "    "
   ]
  },
  {
   "cell_type": "code",
   "execution_count": 18,
   "metadata": {},
   "outputs": [
    {
     "name": "stdout",
     "output_type": "stream",
     "text": [
      "[[2 3]\n",
      " [4 5]] [[0 2]\n",
      " [4 6]]\n"
     ]
    }
   ],
   "source": [
    "a = tf.constant([2,2],name = \"a\")\n",
    "b = tf.constant([[0,1],[2,3]],name = \"b\")\n",
    "x = tf.add(a,b,name = \"add\")\n",
    "y = tf.multiply(a,b,name = \"mul\")\n",
    "with tf.Session() as sess:\n",
    "    x,y = sess.run([x,y])\n",
    "    print(x,y)"
   ]
  },
  {
   "cell_type": "code",
   "execution_count": 22,
   "metadata": {},
   "outputs": [
    {
     "name": "stdout",
     "output_type": "stream",
     "text": [
      "[[9 9 9]\n",
      " [9 9 9]]\n"
     ]
    }
   ],
   "source": [
    "with tf.Session() as sess:\n",
    "    #print(sess.run(tf.zeros([2,3],tf.int32)))\n",
    "    print(sess.run(tf.fill([2,3],9)))"
   ]
  },
  {
   "cell_type": "code",
   "execution_count": 24,
   "metadata": {},
   "outputs": [
    {
     "name": "stdout",
     "output_type": "stream",
     "text": [
      "[5 8]\n",
      "[ 7 10]\n",
      "[ 6 12]\n",
      "<class 'ValueError'>\n",
      "[[18]]\n",
      "[1 3]\n",
      "[1 0]\n"
     ]
    }
   ],
   "source": [
    "a = tf.constant([3,6])\n",
    "b = tf.constant([2,2])\n",
    "with tf.Session() as sess:\n",
    "    print(sess.run(tf.add(a,b)))\n",
    "    print(sess.run(tf.add_n([a,b,b])))\n",
    "    print(sess.run(tf.multiply(a,b)))\n",
    "    try:\n",
    "        print(sess.run(tf.matmul(a,b)))\n",
    "    except ValueError:\n",
    "        print(ValueError)\n",
    "    print(sess.run(tf.matmul(tf.reshape(a,[1,2]),tf.reshape(b,[2,1]))))\n",
    "    print(sess.run(tf.div(a,b)))\n",
    "    print(sess.run(tf.mod(a,b)))\n",
    "    \n",
    "          "
   ]
  },
  {
   "cell_type": "code",
   "execution_count": 25,
   "metadata": {},
   "outputs": [
    {
     "name": "stdout",
     "output_type": "stream",
     "text": [
      "[[-1.33463812 -0.52426511  0.07767635 ...,  0.10223423 -0.20820284\n",
      "   0.01039817]\n",
      " [-1.57780874 -0.80341953 -1.09565187 ...,  0.48572725 -0.46005654\n",
      "  -0.07428716]\n",
      " [-0.84351832  1.38106906 -0.34975371 ...,  1.65787876  1.05088019\n",
      "   0.12286492]\n",
      " ..., \n",
      " [ 0.10732434 -0.69001067  0.80956835 ..., -0.82521641 -1.28106773\n",
      "   0.38061306]\n",
      " [-1.11393249  0.04804225  1.08416939 ...,  1.59015715  1.52950954\n",
      "  -0.6028375 ]\n",
      " [ 0.24965578 -0.68924147 -1.12231529 ...,  0.66087967 -0.11761309\n",
      "   0.01533936]]\n"
     ]
    }
   ],
   "source": [
    "w = tf.Variable(tf.truncated_normal([700,10]))\n",
    "with tf.Session() as sess:\n",
    "    sess.run(w.initializer)\n",
    "    print(w.eval())"
   ]
  },
  {
   "cell_type": "code",
   "execution_count": 29,
   "metadata": {},
   "outputs": [
    {
     "name": "stdout",
     "output_type": "stream",
     "text": [
      "10\n",
      "100\n"
     ]
    }
   ],
   "source": [
    "w = tf.Variable(10)\n",
    "w.assign(100)\n",
    "with tf.Session() as sess:\n",
    "    sess.run(w.initializer)\n",
    "    print(w.eval())\n",
    "    w = w.assign(100)\n",
    "    print(w.eval())"
   ]
  },
  {
   "cell_type": "code",
   "execution_count": 37,
   "metadata": {},
   "outputs": [
    {
     "data": {
      "text/plain": [
       "array([[[ 1.30713427, -1.67404354,  0.05414107, ...,  0.57161474,\n",
       "          2.37949657,  1.03938568],\n",
       "        [-1.38797104,  1.99311233,  1.84991193, ..., -3.52762723,\n",
       "         -0.59601766, -0.97263408],\n",
       "        [ 1.03413582, -1.82491577, -0.02281301, ...,  3.88130808,\n",
       "          1.03723037, -0.90709364],\n",
       "        ..., \n",
       "        [ 0.269728  ,  0.40790072,  2.94511962, ...,  3.27089524,\n",
       "          3.16447258, -3.77105069],\n",
       "        [ 0.12789837, -0.93342727,  0.94280881, ...,  0.42098829,\n",
       "          0.32145604, -1.35340345],\n",
       "        [-1.75789714, -0.8680622 ,  0.50004727, ...,  0.71751606,\n",
       "          0.22060438,  2.83627534]]], dtype=float32)"
      ]
     },
     "execution_count": 37,
     "metadata": {},
     "output_type": "execute_result"
    }
   ],
   "source": [
    "W = tf.Variable(tf.truncated_normal([700,10]))\n",
    "V = tf.Variable([2*W.initialized_value()])\n",
    "sess =tf.InteractiveSession() \n",
    "sess.run(W.initializer)\n",
    "sess.run(V.initializer)\n",
    "V.eval()"
   ]
  },
  {
   "cell_type": "markdown",
   "metadata": {},
   "source": [
    "# Linear Regression Using Tensorflow"
   ]
  },
  {
   "cell_type": "markdown",
   "metadata": {},
   "source": [
    "data has independent variable as incident of fire(x) and dependent variable as incident of theft(y)"
   ]
  },
  {
   "cell_type": "code",
   "execution_count": 38,
   "metadata": {
    "collapsed": true
   },
   "outputs": [],
   "source": [
    "source_folder = \"D:\\\\Study\\\\OneDrive - The University of Texas at Dallas\\\\02 Study\\\\22 Tensorflow\\\\stanford-tensorflow-tutorials-master\\\\data\\\\\""
   ]
  },
  {
   "cell_type": "code",
   "execution_count": 39,
   "metadata": {
    "collapsed": true
   },
   "outputs": [],
   "source": [
    "import pandas as pd\n",
    "import numpy as np\n",
    "import xlrd\n",
    "import matplotlib.pyplot as plt"
   ]
  },
  {
   "cell_type": "code",
   "execution_count": 50,
   "metadata": {
    "collapsed": true
   },
   "outputs": [],
   "source": [
    "book = xlrd.open_workbook(source_folder+\"fire_theft.xls\", encoding_override= \"utf-8\")\n",
    "sheet = book.sheet_by_index(0)\n",
    "data = np.asarray([sheet.row_values(i) for i in range(1, sheet.nrows)])\n",
    "n_samples = sheet.nrows -1"
   ]
  },
  {
   "cell_type": "code",
   "execution_count": 51,
   "metadata": {},
   "outputs": [],
   "source": [
    "X = tf.placeholder(tf.float32, name = \"X\")\n",
    "Y = tf.placeholder(tf.float32, name = \"Y\")"
   ]
  },
  {
   "cell_type": "code",
   "execution_count": 52,
   "metadata": {
    "collapsed": true
   },
   "outputs": [],
   "source": [
    "w = tf.Variable(0.0, name = \"weights\")\n",
    "b = tf.Variable(0.0, name = \"bias\")"
   ]
  },
  {
   "cell_type": "code",
   "execution_count": 53,
   "metadata": {
    "collapsed": true
   },
   "outputs": [],
   "source": [
    "Y_predicted = X*w+b\n",
    "loss = tf.square(Y-Y_predicted, name = \"loss\")\n"
   ]
  },
  {
   "cell_type": "code",
   "execution_count": 54,
   "metadata": {
    "collapsed": true
   },
   "outputs": [],
   "source": [
    "opitmizer = tf.train.GradientDescentOptimizer(learning_rate=0.001).minimize(loss)"
   ]
  },
  {
   "cell_type": "code",
   "execution_count": 55,
   "metadata": {},
   "outputs": [],
   "source": [
    "with tf.Session() as sess:\n",
    "    sess.run(tf.global_variables_initializer())\n",
    "    writer = tf.summary.FileWriter(source_folder+\"/graphs/\",sess.graph)\n",
    "    \n",
    "    for i in range(100):\n",
    "        total_loss = 0\n",
    "        for x, y in data:\n",
    "            _, l = sess.run([opitmizer,loss],feed_dict= {X:x, Y:y})\n",
    "            total_loss = total_loss + l\n",
    "    writer.close()\n",
    "    \n",
    "    w_value,b_value = sess.run([w,b])"
   ]
  },
  {
   "cell_type": "code",
   "execution_count": 56,
   "metadata": {},
   "outputs": [
    {
     "data": {
      "image/png": "[encoded data removed]",
      "text/plain": [
       "<matplotlib.figure.Figure at 0x1a92101eb38>"
      ]
     },
     "metadata": {},
     "output_type": "display_data"
    }
   ],
   "source": [
    "X,Y = data.T[0] , data.T[1]\n",
    "plt.plot(X, Y, 'bo', label='Real data')\n",
    "plt.plot(X, X * w_value + b_value, 'r', label='Predicted data')\n",
    "plt.legend()\n",
    "plt.show()\n"
   ]
  },
  {
   "cell_type": "markdown",
   "metadata": {},
   "source": [
    "# Logistic Regression Using Tensorflow"
   ]
  },
  {
   "cell_type": "markdown",
   "metadata": {},
   "source": [
    "MNSIT dataset to predict the digit represented by the image"
   ]
  },
  {
   "cell_type": "code",
   "execution_count": 60,
   "metadata": {
    "collapsed": true
   },
   "outputs": [],
   "source": [
    "learning_rate = 0.001\n",
    "batch_size = 128\n",
    "n_epochs = 30 "
   ]
  },
  {
   "cell_type": "code",
   "execution_count": 62,
   "metadata": {},
   "outputs": [
    {
     "name": "stdout",
     "output_type": "stream",
     "text": [
      "Extracting /data/mnist\\train-images-idx3-ubyte.gz\n",
      "Extracting /data/mnist\\train-labels-idx1-ubyte.gz\n",
      "Extracting /data/mnist\\t10k-images-idx3-ubyte.gz\n",
      "Extracting /data/mnist\\t10k-labels-idx1-ubyte.gz\n"
     ]
    }
   ],
   "source": [
    "from tensorflow.examples.tutorials.mnist import input_data\n",
    "mnist = input_data.read_data_sets('/data/mnist', one_hot = True)\n",
    "X = tf.placeholder(tf.float32,[batch_size,784],name = \"X_placeholder\")\n",
    "Y = tf.placeholder(tf.float32,[batch_size,10], name = \"Y_placeholder\")"
   ]
  },
  {
   "cell_type": "code",
   "execution_count": 63,
   "metadata": {
    "collapsed": true
   },
   "outputs": [],
   "source": [
    "w = tf.Variable(tf.random_normal(shape = [784,10], stddev= 0.01), name = \"weights\")\n",
    "b = tf.Variable(tf.random_normal(shape = [1,10]), name = \"bias\")"
   ]
  },
  {
   "cell_type": "code",
   "execution_count": 68,
   "metadata": {},
   "outputs": [],
   "source": [
    "logits = tf.matmul(X,w)+b\n",
    "entropy = tf.nn.softmax_cross_entropy_with_logits(logits=logits, labels=Y, name='loss')\n",
    "loss = tf.reduce_mean(entropy)\n",
    "optimizer = tf.train.GradientDescentOptimizer(learning_rate).minimize(loss)"
   ]
  },
  {
   "cell_type": "code",
   "execution_count": 73,
   "metadata": {},
   "outputs": [
    {
     "name": "stdout",
     "output_type": "stream",
     "text": [
      "Average loss epoch 0: 2.208215488698377\n",
      "Average loss epoch 1: 1.7841259282785695\n",
      "Average loss epoch 2: 1.5389978088143266\n",
      "Average loss epoch 3: 1.3596725930700768\n",
      "Average loss epoch 4: 1.2270796507388562\n",
      "Average loss epoch 5: 1.1241825085419874\n",
      "Average loss epoch 6: 1.0458006432284286\n",
      "Average loss epoch 7: 0.981403046137803\n",
      "Average loss epoch 8: 0.9234157036512326\n",
      "Average loss epoch 9: 0.8846519262918503\n",
      "Average loss epoch 10: 0.8439019661405426\n",
      "Average loss epoch 11: 0.8123572607696196\n",
      "Average loss epoch 12: 0.7830159882287602\n",
      "Average loss epoch 13: 0.7583907474448909\n",
      "Average loss epoch 14: 0.7381099940457821\n",
      "Average loss epoch 15: 0.7179785930749142\n",
      "Average loss epoch 16: 0.7012974803264325\n",
      "Average loss epoch 17: 0.6834406265012034\n",
      "Average loss epoch 18: 0.6687224479544135\n",
      "Average loss epoch 19: 0.6571575697763261\n",
      "Average loss epoch 20: 0.6430370703443781\n",
      "Average loss epoch 21: 0.6363073058756359\n",
      "Average loss epoch 22: 0.6241858816924907\n",
      "Average loss epoch 23: 0.6090366063695966\n",
      "Average loss epoch 24: 0.6076124510565004\n",
      "Average loss epoch 25: 0.5974794146897909\n",
      "Average loss epoch 26: 0.5885936830427263\n",
      "Average loss epoch 27: 0.5814355469389118\n",
      "Average loss epoch 28: 0.5759239911616265\n",
      "Average loss epoch 29: 0.5672829276892967\n",
      "Total time: 18.131202220916748 seconds\n",
      "Optimization Finished!\n",
      "Accuracy 0.8715\n"
     ]
    }
   ],
   "source": [
    "import time\n",
    "with tf.Session() as sess:\n",
    "    writer = tf.summary.FileWriter(source_folder+\"/graphs/logistic_regression/\",sess.graph)\n",
    "    \n",
    "    start_time = time.time()\n",
    "    sess.run(tf.global_variables_initializer())\n",
    "    n_batches = int(mnist.train.num_examples/batch_size)\n",
    "    \n",
    "    for i in range(n_epochs):\n",
    "        total_loss = 0\n",
    "        \n",
    "        for _ in range(n_batches):\n",
    "            X_batch, Y_batch = mnist.train.next_batch(batch_size)\n",
    "            _, loss_batch = sess.run([optimizer,loss], feed_dict= {X:X_batch,Y:Y_batch})\n",
    "            total_loss = total_loss + loss_batch\n",
    "            \n",
    "        print('Average loss epoch {0}: {1}'.format(i, total_loss/n_batches))\n",
    "        \n",
    "    print('Total time: {0} seconds'.format(time.time() - start_time))\n",
    "\n",
    "    print('Optimization Finished!') # should be around 0.35 after 25 epochs\n",
    "    \n",
    "    preds = tf.nn.softmax(logits)\n",
    "    correct_preds = tf.equal(tf.argmax(preds, 1), tf.argmax(Y, 1))\n",
    "    accuracy = tf.reduce_sum(tf.cast(correct_preds, tf.float32)) # need numpy.count_nonzero(boolarr) :(\n",
    "\n",
    "    n_batches = int(mnist.test.num_examples/batch_size)\n",
    "    total_correct_preds = 0\n",
    "\n",
    "    for i in range(n_batches):\n",
    "        X_batch, Y_batch = mnist.test.next_batch(batch_size)\n",
    "        _,loss_batch,logits_batch = sess.run([optimizer,loss,logits],feed_dict= {X:X_batch, Y:Y_batch})\n",
    "        preds = tf.nn.softmax(logits_batch)\n",
    "        correct_preds = tf.equal(tf.argmax(preds,1),tf.argmax(Y_batch,1))\n",
    "        accuracy_preds = tf.reduce_sum(tf.cast(correct_preds,tf.float32))\n",
    "        total_correct_preds +=  sess.run(accuracy_preds)\n",
    "        #accuracy_batch = sess.run([accuracy], feed_dict={X: X_batch, Y:Y_batch}) \n",
    "        #total_correct_preds += accuracy_batch\n",
    "\n",
    "    print('Accuracy {0}'.format(total_correct_preds/mnist.test.num_examples))\n",
    "\n",
    "    writer.close()\n",
    "    \n",
    "    \n",
    "    "
   ]
  },
  {
   "cell_type": "code",
   "execution_count": null,
   "metadata": {
    "collapsed": true
   },
   "outputs": [],
   "source": []
  }
 ],
 "metadata": {
  "kernelspec": {
   "display_name": "Python 3",
   "language": "python",
   "name": "python3"
  },
  "language_info": {
   "codemirror_mode": {
    "name": "ipython",
    "version": 3
   },
   "file_extension": ".py",
   "mimetype": "text/x-python",
   "name": "python",
   "nbconvert_exporter": "python",
   "pygments_lexer": "ipython3",
   "version": "3.6.3"
  }
 },
 "nbformat": 4,
 "nbformat_minor": 2
}
